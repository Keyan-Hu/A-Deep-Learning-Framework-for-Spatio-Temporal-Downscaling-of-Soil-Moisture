{
 "cells": [
  {
   "cell_type": "code",
   "execution_count": 1,
   "metadata": {},
   "outputs": [
    {
     "name": "stdout",
     "output_type": "stream",
     "text": [
      "Total number of parameters is: 503937\n"
     ]
    }
   ],
   "source": [
    "import sys\n",
    "import torch\n",
    "import argparse\n",
    "sys.path.append(r\"C:\\Users\\Administrator\\Desktop\\code\\LSTM\\LSTM\")\n",
    "from torchstat import stat\n",
    "from model.LSTM import LSTMModel, BiLSTMModel\n",
    "from utils.utils import Util\n",
    "\n",
    "def main(args):\n",
    "    model_config = Util.load_config(args.model_config_path)\n",
    "    path_config = Util.load_config(args.path_config_path)\n",
    "    return model_config, path_config\n",
    "\n",
    "if __name__ == '__main__':\n",
    "    parser = argparse.ArgumentParser()\n",
    "    parser.add_argument('--path_config_path', type=str, default='../config/path_config.yaml')\n",
    "    parser.add_argument('--model_config_path', type=str, default='../config/model_config.yaml')\n",
    "    args = parser.parse_known_args()[0]\n",
    "    Hyperparameter_dict, path_dict = main(args)\n",
    "    \n",
    "    # 设定设备\n",
    "    device = torch.device(\"cuda\" if torch.cuda.is_available() else \"cpu\")\n",
    "\n",
    "    # 创建模型并将其移至设定的设备\n",
    "    model1 = LSTMModel(input_dim=Hyperparameter_dict['input_dim'], hidden_size=Hyperparameter_dict['hidden_size'],dropout_rate=Hyperparameter_dict['dropout_rate'])\n",
    "    model2 = BiLSTMModel(input_dim=Hyperparameter_dict['input_dim'], hidden_size=Hyperparameter_dict['hidden_size'],dropout_rate=Hyperparameter_dict['dropout_rate'])\n",
    "    # 临时将模型移至 CPU 进行分析\n",
    "    model1.cpu()\n",
    "    model2.cpu()\n",
    "    total_params = sum(p.numel() for p in model1.parameters() if p.requires_grad)\n",
    "    print(\"Total number of parameters is: {}\".format(total_params))\n"
   ]
  }
 ],
 "metadata": {
  "kernelspec": {
   "display_name": "MLL",
   "language": "python",
   "name": "python3"
  },
  "language_info": {
   "codemirror_mode": {
    "name": "ipython",
    "version": 3
   },
   "file_extension": ".py",
   "mimetype": "text/x-python",
   "name": "python",
   "nbconvert_exporter": "python",
   "pygments_lexer": "ipython3",
   "version": "3.10.13"
  }
 },
 "nbformat": 4,
 "nbformat_minor": 2
}
